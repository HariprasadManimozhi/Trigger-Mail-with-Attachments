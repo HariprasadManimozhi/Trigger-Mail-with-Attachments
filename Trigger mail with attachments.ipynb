{
 "cells": [
  {
   "cell_type": "markdown",
   "metadata": {},
   "source": [
    "# Trigger multiple e-mails with corresponding attachments from table"
   ]
  },
  {
   "cell_type": "markdown",
   "metadata": {},
   "source": [
    "### 1) Import necessary Libraries"
   ]
  },
  {
   "cell_type": "code",
   "execution_count": 1,
   "metadata": {},
   "outputs": [],
   "source": [
    "import os\n",
    "import pandas as pd\n",
    "\n",
    "# Mail \n",
    "import smtplib\n",
    "from email.mime.multipart import MIMEMultipart\n",
    "from email.mime.text import MIMEText\n",
    "from email.mime.base import MIMEBase\n",
    "from email import encoders"
   ]
  },
  {
   "cell_type": "markdown",
   "metadata": {},
   "source": [
    "### 2) Read data from table/database "
   ]
  },
  {
   "cell_type": "markdown",
   "metadata": {},
   "source": [
    "* Data include attachment filenames & e-mail IDs\n",
    "* In this case, the attachment has 'Employee_ID' as the filename\n",
    "* Note that the data is anonymized & fake"
   ]
  },
  {
   "cell_type": "code",
   "execution_count": 2,
   "metadata": {},
   "outputs": [
    {
     "name": "stdout",
     "output_type": "stream",
     "text": [
      "Index(['Employee_ID', 'Email_ID'], dtype='object')\n"
     ]
    }
   ],
   "source": [
    "# Read Data from CSV\n",
    "df = pd.read_csv('Employee_details.csv')\n",
    "\n",
    "# Print the column names\n",
    "print(df.columns)\n",
    "\n",
    "# Get the values for a given column\n",
    "values = df['Employee_ID'].values\n",
    "\n",
    "# Get a data frame with selected columns\n",
    "FORMAT = ['Employee_ID', 'Email_ID']\n",
    "df_selected = df[FORMAT]"
   ]
  },
  {
   "cell_type": "code",
   "execution_count": 3,
   "metadata": {
    "scrolled": true
   },
   "outputs": [
    {
     "data": {
      "text/html": [
       "<div>\n",
       "<style scoped>\n",
       "    .dataframe tbody tr th:only-of-type {\n",
       "        vertical-align: middle;\n",
       "    }\n",
       "\n",
       "    .dataframe tbody tr th {\n",
       "        vertical-align: top;\n",
       "    }\n",
       "\n",
       "    .dataframe thead th {\n",
       "        text-align: right;\n",
       "    }\n",
       "</style>\n",
       "<table border=\"1\" class=\"dataframe\">\n",
       "  <thead>\n",
       "    <tr style=\"text-align: right;\">\n",
       "      <th></th>\n",
       "      <th>Employee_ID</th>\n",
       "      <th>Email_ID</th>\n",
       "    </tr>\n",
       "  </thead>\n",
       "  <tbody>\n",
       "    <tr>\n",
       "      <th>0</th>\n",
       "      <td>38957</td>\n",
       "      <td>aadams@rodriguez.com</td>\n",
       "    </tr>\n",
       "    <tr>\n",
       "      <th>1</th>\n",
       "      <td>71665</td>\n",
       "      <td>laurenlopez@hotmail.com</td>\n",
       "    </tr>\n",
       "    <tr>\n",
       "      <th>2</th>\n",
       "      <td>646</td>\n",
       "      <td>pacosta@yahoo.com</td>\n",
       "    </tr>\n",
       "    <tr>\n",
       "      <th>3</th>\n",
       "      <td>898</td>\n",
       "      <td>nathan55@hotmail.com</td>\n",
       "    </tr>\n",
       "    <tr>\n",
       "      <th>4</th>\n",
       "      <td>2624</td>\n",
       "      <td>ann12@olson.net</td>\n",
       "    </tr>\n",
       "  </tbody>\n",
       "</table>\n",
       "</div>"
      ],
      "text/plain": [
       "   Employee_ID                 Email_ID\n",
       "0        38957     aadams@rodriguez.com\n",
       "1        71665  laurenlopez@hotmail.com\n",
       "2          646        pacosta@yahoo.com\n",
       "3          898     nathan55@hotmail.com\n",
       "4         2624          ann12@olson.net"
      ]
     },
     "execution_count": 3,
     "metadata": {},
     "output_type": "execute_result"
    }
   ],
   "source": [
    "df_selected"
   ]
  },
  {
   "cell_type": "markdown",
   "metadata": {},
   "source": [
    "### 3) Trigger e-mails with attachments to mail-IDs"
   ]
  },
  {
   "cell_type": "markdown",
   "metadata": {},
   "source": [
    "* The attachment has to be sent to e-mail of the corresponding employee as in the table/database\n",
    "* Configuration from the sender mail has to be done\n",
    "* In some cases, the mail configuration has to be changed to suit the need\n",
    "* The extension of attachments can be changed(here, text files)\n",
    "* Prompt message is displayed after each mail is triggered"
   ]
  },
  {
   "cell_type": "code",
   "execution_count": 4,
   "metadata": {},
   "outputs": [
    {
     "name": "stdout",
     "output_type": "stream",
     "text": [
      "aadams@rodriguez.com\n",
      "38957.txt\n",
      "laurenlopez@hotmail.com\n",
      "71665.txt\n",
      "pacosta@yahoo.com\n",
      "646.txt\n",
      "nathan55@hotmail.com\n",
      "898.txt\n",
      "ann12@olson.net\n",
      "2624.txt\n"
     ]
    },
    {
     "data": {
      "text/plain": [
       "(221, b'2.0.0 closing connection g9sm15081816pgj.89 - gsmtp')"
      ]
     },
     "execution_count": 4,
     "metadata": {},
     "output_type": "execute_result"
    }
   ],
   "source": [
    "# Source directory\n",
    "path = os.getcwd()\n",
    "\n",
    "# Mail address of the sender\n",
    "fromaddr = \"*********@gmail.com\"\n",
    "\n",
    "for index, row in df_selected.iterrows():\n",
    "    toaddr = row['Email_ID']\n",
    "    print(toaddr)\n",
    "    # instance of MIMEMultipart\n",
    "    msg = MIMEMultipart()\n",
    "\n",
    "    # storing the senders email address  \n",
    "    msg['From'] = fromaddr\n",
    "\n",
    "    # storing the receivers email address \n",
    "    msg['To'] = toaddr\n",
    "\n",
    "    # storing the subject \n",
    "    msg['Subject'] = \"Subject of the Mail\"\n",
    "\n",
    "    # string to store the body of the mail\n",
    "    body = \"Body_of_the_mail\"\n",
    "\n",
    "    # attach the body with the msg instance\n",
    "    msg.attach(MIMEText(body, 'plain'))\n",
    "\n",
    "    # open the file to be sent\n",
    "    filename = \"%s.txt\" %row['Employee_ID']\n",
    "    attachment = open(os.path.join(path+'\\\\Attachments\\\\'+filename),\"rb\")\n",
    "\n",
    "    # instance of MIMEBase and named as p\n",
    "    p = MIMEBase('application', 'octet-stream')\n",
    "\n",
    "    # To change the payload into encoded form\n",
    "    p.set_payload((attachment).read())\n",
    "\n",
    "    # encode into base64\n",
    "    encoders.encode_base64(p)\n",
    "\n",
    "    p.add_header('Content-Disposition', \"attachment; filename= %s\" % filename)\n",
    "    print(filename)\n",
    "    # attach the instance 'p' to instance 'msg'\n",
    "    msg.attach(p)\n",
    "\n",
    "    # creates SMTP session\n",
    "    s = smtplib.SMTP('smtp.gmail.com', 587)\n",
    "\n",
    "    # start TLS for security\n",
    "    s.starttls()\n",
    "\n",
    "    # Authentication\n",
    "    s.login(fromaddr, \"password\")\n",
    "\n",
    "    # Converts the Multipart msg into a string\n",
    "    text = msg.as_string()\n",
    "    # sending the mail\n",
    "    s.sendmail(fromaddr, toaddr, text)\n",
    " \n",
    "# terminating the session\n",
    "s.quit()"
   ]
  }
 ],
 "metadata": {
  "kernelspec": {
   "display_name": "Python 3",
   "language": "python",
   "name": "python3"
  },
  "language_info": {
   "codemirror_mode": {
    "name": "ipython",
    "version": 3
   },
   "file_extension": ".py",
   "mimetype": "text/x-python",
   "name": "python",
   "nbconvert_exporter": "python",
   "pygments_lexer": "ipython3",
   "version": "3.8.1"
  }
 },
 "nbformat": 4,
 "nbformat_minor": 2
}
